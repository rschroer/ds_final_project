{
 "cells": [
  {
   "cell_type": "code",
   "execution_count": 1,
   "metadata": {},
   "outputs": [],
   "source": [
    "## Import Libraries\n",
    "import pandas as pd\n",
    "import numpy as np\n",
    "# from matplotlib import pyplot as plt\n",
    "# %matplotlib inline\n",
    "import warnings\n",
    "warnings.filterwarnings(\"ignore\")"
   ]
  },
  {
   "cell_type": "code",
   "execution_count": 2,
   "metadata": {},
   "outputs": [],
   "source": [
    "df=pd.read_csv(\"reduced_and_categorized.csv\", low_memory=False)\n",
    "# df=pd.read_csv(\"reduced_features.csv\", low_memory=False)"
   ]
  },
  {
   "cell_type": "code",
   "execution_count": 3,
   "metadata": {},
   "outputs": [
    {
     "data": {
      "text/html": [
       "<div>\n",
       "<style scoped>\n",
       "    .dataframe tbody tr th:only-of-type {\n",
       "        vertical-align: middle;\n",
       "    }\n",
       "\n",
       "    .dataframe tbody tr th {\n",
       "        vertical-align: top;\n",
       "    }\n",
       "\n",
       "    .dataframe thead th {\n",
       "        text-align: right;\n",
       "    }\n",
       "</style>\n",
       "<table border=\"1\" class=\"dataframe\">\n",
       "  <thead>\n",
       "    <tr style=\"text-align: right;\">\n",
       "      <th></th>\n",
       "      <th>AVProductStatesIdentifier</th>\n",
       "      <th>AVProductsEnabled</th>\n",
       "      <th>Census_IsAlwaysOnAlwaysConnectedCapable</th>\n",
       "      <th>Wdft_IsGamer</th>\n",
       "      <th>HasDetections</th>\n",
       "      <th>EngineVersion_1.1.11701.0</th>\n",
       "      <th>EngineVersion_1.1.12603.0</th>\n",
       "      <th>EngineVersion_1.1.12805.0</th>\n",
       "      <th>EngineVersion_1.1.12902.0</th>\n",
       "      <th>EngineVersion_1.1.13000.0</th>\n",
       "      <th>...</th>\n",
       "      <th>Census_OSVersion_10.0.17746.1000</th>\n",
       "      <th>Census_OSVersion_10.0.17747.1000</th>\n",
       "      <th>Census_OSVersion_10.0.17751.1</th>\n",
       "      <th>Census_OSVersion_10.0.17754.1</th>\n",
       "      <th>Census_OSVersion_10.0.17755.1</th>\n",
       "      <th>Census_OSVersion_10.0.17758.1</th>\n",
       "      <th>Census_OSVersion_10.0.17758.4</th>\n",
       "      <th>Census_OSVersion_10.0.17760.1</th>\n",
       "      <th>Census_OSVersion_10.0.17763.1</th>\n",
       "      <th>Census_OSVersion_10.0.18234.1000</th>\n",
       "    </tr>\n",
       "  </thead>\n",
       "  <tbody>\n",
       "    <tr>\n",
       "      <th>0</th>\n",
       "      <td>53447.0</td>\n",
       "      <td>1.0</td>\n",
       "      <td>0.0</td>\n",
       "      <td>0.0</td>\n",
       "      <td>0</td>\n",
       "      <td>0</td>\n",
       "      <td>0</td>\n",
       "      <td>0</td>\n",
       "      <td>0</td>\n",
       "      <td>0</td>\n",
       "      <td>...</td>\n",
       "      <td>0</td>\n",
       "      <td>0</td>\n",
       "      <td>0</td>\n",
       "      <td>0</td>\n",
       "      <td>0</td>\n",
       "      <td>0</td>\n",
       "      <td>0</td>\n",
       "      <td>0</td>\n",
       "      <td>0</td>\n",
       "      <td>0</td>\n",
       "    </tr>\n",
       "    <tr>\n",
       "      <th>1</th>\n",
       "      <td>53447.0</td>\n",
       "      <td>1.0</td>\n",
       "      <td>0.0</td>\n",
       "      <td>1.0</td>\n",
       "      <td>0</td>\n",
       "      <td>0</td>\n",
       "      <td>0</td>\n",
       "      <td>0</td>\n",
       "      <td>0</td>\n",
       "      <td>0</td>\n",
       "      <td>...</td>\n",
       "      <td>0</td>\n",
       "      <td>0</td>\n",
       "      <td>0</td>\n",
       "      <td>0</td>\n",
       "      <td>0</td>\n",
       "      <td>0</td>\n",
       "      <td>0</td>\n",
       "      <td>0</td>\n",
       "      <td>0</td>\n",
       "      <td>0</td>\n",
       "    </tr>\n",
       "    <tr>\n",
       "      <th>2</th>\n",
       "      <td>53447.0</td>\n",
       "      <td>1.0</td>\n",
       "      <td>0.0</td>\n",
       "      <td>1.0</td>\n",
       "      <td>1</td>\n",
       "      <td>0</td>\n",
       "      <td>0</td>\n",
       "      <td>0</td>\n",
       "      <td>0</td>\n",
       "      <td>0</td>\n",
       "      <td>...</td>\n",
       "      <td>0</td>\n",
       "      <td>0</td>\n",
       "      <td>0</td>\n",
       "      <td>0</td>\n",
       "      <td>0</td>\n",
       "      <td>0</td>\n",
       "      <td>0</td>\n",
       "      <td>0</td>\n",
       "      <td>0</td>\n",
       "      <td>0</td>\n",
       "    </tr>\n",
       "    <tr>\n",
       "      <th>3</th>\n",
       "      <td>47238.0</td>\n",
       "      <td>1.0</td>\n",
       "      <td>0.0</td>\n",
       "      <td>0.0</td>\n",
       "      <td>0</td>\n",
       "      <td>0</td>\n",
       "      <td>0</td>\n",
       "      <td>0</td>\n",
       "      <td>0</td>\n",
       "      <td>0</td>\n",
       "      <td>...</td>\n",
       "      <td>0</td>\n",
       "      <td>0</td>\n",
       "      <td>0</td>\n",
       "      <td>0</td>\n",
       "      <td>0</td>\n",
       "      <td>0</td>\n",
       "      <td>0</td>\n",
       "      <td>0</td>\n",
       "      <td>0</td>\n",
       "      <td>0</td>\n",
       "    </tr>\n",
       "    <tr>\n",
       "      <th>4</th>\n",
       "      <td>53447.0</td>\n",
       "      <td>1.0</td>\n",
       "      <td>0.0</td>\n",
       "      <td>0.0</td>\n",
       "      <td>1</td>\n",
       "      <td>0</td>\n",
       "      <td>0</td>\n",
       "      <td>0</td>\n",
       "      <td>0</td>\n",
       "      <td>0</td>\n",
       "      <td>...</td>\n",
       "      <td>0</td>\n",
       "      <td>0</td>\n",
       "      <td>0</td>\n",
       "      <td>0</td>\n",
       "      <td>0</td>\n",
       "      <td>0</td>\n",
       "      <td>0</td>\n",
       "      <td>0</td>\n",
       "      <td>0</td>\n",
       "      <td>0</td>\n",
       "    </tr>\n",
       "  </tbody>\n",
       "</table>\n",
       "<p>5 rows × 283 columns</p>\n",
       "</div>"
      ],
      "text/plain": [
       "   AVProductStatesIdentifier  AVProductsEnabled  \\\n",
       "0                    53447.0                1.0   \n",
       "1                    53447.0                1.0   \n",
       "2                    53447.0                1.0   \n",
       "3                    47238.0                1.0   \n",
       "4                    53447.0                1.0   \n",
       "\n",
       "   Census_IsAlwaysOnAlwaysConnectedCapable  Wdft_IsGamer  HasDetections  \\\n",
       "0                                      0.0           0.0              0   \n",
       "1                                      0.0           1.0              0   \n",
       "2                                      0.0           1.0              1   \n",
       "3                                      0.0           0.0              0   \n",
       "4                                      0.0           0.0              1   \n",
       "\n",
       "   EngineVersion_1.1.11701.0  EngineVersion_1.1.12603.0  \\\n",
       "0                          0                          0   \n",
       "1                          0                          0   \n",
       "2                          0                          0   \n",
       "3                          0                          0   \n",
       "4                          0                          0   \n",
       "\n",
       "   EngineVersion_1.1.12805.0  EngineVersion_1.1.12902.0  \\\n",
       "0                          0                          0   \n",
       "1                          0                          0   \n",
       "2                          0                          0   \n",
       "3                          0                          0   \n",
       "4                          0                          0   \n",
       "\n",
       "   EngineVersion_1.1.13000.0                ...                 \\\n",
       "0                          0                ...                  \n",
       "1                          0                ...                  \n",
       "2                          0                ...                  \n",
       "3                          0                ...                  \n",
       "4                          0                ...                  \n",
       "\n",
       "   Census_OSVersion_10.0.17746.1000  Census_OSVersion_10.0.17747.1000  \\\n",
       "0                                 0                                 0   \n",
       "1                                 0                                 0   \n",
       "2                                 0                                 0   \n",
       "3                                 0                                 0   \n",
       "4                                 0                                 0   \n",
       "\n",
       "   Census_OSVersion_10.0.17751.1  Census_OSVersion_10.0.17754.1  \\\n",
       "0                              0                              0   \n",
       "1                              0                              0   \n",
       "2                              0                              0   \n",
       "3                              0                              0   \n",
       "4                              0                              0   \n",
       "\n",
       "   Census_OSVersion_10.0.17755.1  Census_OSVersion_10.0.17758.1  \\\n",
       "0                              0                              0   \n",
       "1                              0                              0   \n",
       "2                              0                              0   \n",
       "3                              0                              0   \n",
       "4                              0                              0   \n",
       "\n",
       "   Census_OSVersion_10.0.17758.4  Census_OSVersion_10.0.17760.1  \\\n",
       "0                              0                              0   \n",
       "1                              0                              0   \n",
       "2                              0                              0   \n",
       "3                              0                              0   \n",
       "4                              0                              0   \n",
       "\n",
       "   Census_OSVersion_10.0.17763.1  Census_OSVersion_10.0.18234.1000  \n",
       "0                              0                                 0  \n",
       "1                              0                                 0  \n",
       "2                              0                                 0  \n",
       "3                              0                                 0  \n",
       "4                              0                                 0  \n",
       "\n",
       "[5 rows x 283 columns]"
      ]
     },
     "execution_count": 3,
     "metadata": {},
     "output_type": "execute_result"
    }
   ],
   "source": [
    "df.head()"
   ]
  },
  {
   "cell_type": "code",
   "execution_count": 4,
   "metadata": {},
   "outputs": [],
   "source": [
    "# df = df.drop(columns = 'AVProductStatesIdentifier')"
   ]
  },
  {
   "cell_type": "code",
   "execution_count": 5,
   "metadata": {},
   "outputs": [],
   "source": [
    "# df.head()"
   ]
  },
  {
   "cell_type": "code",
   "execution_count": 6,
   "metadata": {},
   "outputs": [],
   "source": [
    "# list_of_columns = list(df.columns)\n",
    "# print(list_of_columns)"
   ]
  },
  {
   "cell_type": "code",
   "execution_count": 7,
   "metadata": {},
   "outputs": [],
   "source": [
    "from sklearn import preprocessing\n",
    "\n",
    "le = preprocessing.LabelEncoder()\n",
    "# df['AVProductStatesIdentifier'] = le.fit_transform(df.label.values)\n",
    "df['AVProductStatesIdentifier'] = le.fit_transform(df['AVProductStatesIdentifier'])\n",
    "\n",
    "# for column in list_of_columns:\n",
    "#     df[column] = le.fit_transform(df[column])"
   ]
  },
  {
   "cell_type": "code",
   "execution_count": 8,
   "metadata": {},
   "outputs": [
    {
     "data": {
      "text/html": [
       "<div>\n",
       "<style scoped>\n",
       "    .dataframe tbody tr th:only-of-type {\n",
       "        vertical-align: middle;\n",
       "    }\n",
       "\n",
       "    .dataframe tbody tr th {\n",
       "        vertical-align: top;\n",
       "    }\n",
       "\n",
       "    .dataframe thead th {\n",
       "        text-align: right;\n",
       "    }\n",
       "</style>\n",
       "<table border=\"1\" class=\"dataframe\">\n",
       "  <thead>\n",
       "    <tr style=\"text-align: right;\">\n",
       "      <th></th>\n",
       "      <th>AVProductStatesIdentifier</th>\n",
       "      <th>AVProductsEnabled</th>\n",
       "      <th>Census_IsAlwaysOnAlwaysConnectedCapable</th>\n",
       "      <th>Wdft_IsGamer</th>\n",
       "      <th>HasDetections</th>\n",
       "      <th>EngineVersion_1.1.11701.0</th>\n",
       "      <th>EngineVersion_1.1.12603.0</th>\n",
       "      <th>EngineVersion_1.1.12805.0</th>\n",
       "      <th>EngineVersion_1.1.12902.0</th>\n",
       "      <th>EngineVersion_1.1.13000.0</th>\n",
       "      <th>...</th>\n",
       "      <th>Census_OSVersion_10.0.17746.1000</th>\n",
       "      <th>Census_OSVersion_10.0.17747.1000</th>\n",
       "      <th>Census_OSVersion_10.0.17751.1</th>\n",
       "      <th>Census_OSVersion_10.0.17754.1</th>\n",
       "      <th>Census_OSVersion_10.0.17755.1</th>\n",
       "      <th>Census_OSVersion_10.0.17758.1</th>\n",
       "      <th>Census_OSVersion_10.0.17758.4</th>\n",
       "      <th>Census_OSVersion_10.0.17760.1</th>\n",
       "      <th>Census_OSVersion_10.0.17763.1</th>\n",
       "      <th>Census_OSVersion_10.0.18234.1000</th>\n",
       "    </tr>\n",
       "  </thead>\n",
       "  <tbody>\n",
       "    <tr>\n",
       "      <th>0</th>\n",
       "      <td>941</td>\n",
       "      <td>1.0</td>\n",
       "      <td>0.0</td>\n",
       "      <td>0.0</td>\n",
       "      <td>0</td>\n",
       "      <td>0</td>\n",
       "      <td>0</td>\n",
       "      <td>0</td>\n",
       "      <td>0</td>\n",
       "      <td>0</td>\n",
       "      <td>...</td>\n",
       "      <td>0</td>\n",
       "      <td>0</td>\n",
       "      <td>0</td>\n",
       "      <td>0</td>\n",
       "      <td>0</td>\n",
       "      <td>0</td>\n",
       "      <td>0</td>\n",
       "      <td>0</td>\n",
       "      <td>0</td>\n",
       "      <td>0</td>\n",
       "    </tr>\n",
       "    <tr>\n",
       "      <th>1</th>\n",
       "      <td>941</td>\n",
       "      <td>1.0</td>\n",
       "      <td>0.0</td>\n",
       "      <td>1.0</td>\n",
       "      <td>0</td>\n",
       "      <td>0</td>\n",
       "      <td>0</td>\n",
       "      <td>0</td>\n",
       "      <td>0</td>\n",
       "      <td>0</td>\n",
       "      <td>...</td>\n",
       "      <td>0</td>\n",
       "      <td>0</td>\n",
       "      <td>0</td>\n",
       "      <td>0</td>\n",
       "      <td>0</td>\n",
       "      <td>0</td>\n",
       "      <td>0</td>\n",
       "      <td>0</td>\n",
       "      <td>0</td>\n",
       "      <td>0</td>\n",
       "    </tr>\n",
       "    <tr>\n",
       "      <th>2</th>\n",
       "      <td>941</td>\n",
       "      <td>1.0</td>\n",
       "      <td>0.0</td>\n",
       "      <td>1.0</td>\n",
       "      <td>1</td>\n",
       "      <td>0</td>\n",
       "      <td>0</td>\n",
       "      <td>0</td>\n",
       "      <td>0</td>\n",
       "      <td>0</td>\n",
       "      <td>...</td>\n",
       "      <td>0</td>\n",
       "      <td>0</td>\n",
       "      <td>0</td>\n",
       "      <td>0</td>\n",
       "      <td>0</td>\n",
       "      <td>0</td>\n",
       "      <td>0</td>\n",
       "      <td>0</td>\n",
       "      <td>0</td>\n",
       "      <td>0</td>\n",
       "    </tr>\n",
       "    <tr>\n",
       "      <th>3</th>\n",
       "      <td>775</td>\n",
       "      <td>1.0</td>\n",
       "      <td>0.0</td>\n",
       "      <td>0.0</td>\n",
       "      <td>0</td>\n",
       "      <td>0</td>\n",
       "      <td>0</td>\n",
       "      <td>0</td>\n",
       "      <td>0</td>\n",
       "      <td>0</td>\n",
       "      <td>...</td>\n",
       "      <td>0</td>\n",
       "      <td>0</td>\n",
       "      <td>0</td>\n",
       "      <td>0</td>\n",
       "      <td>0</td>\n",
       "      <td>0</td>\n",
       "      <td>0</td>\n",
       "      <td>0</td>\n",
       "      <td>0</td>\n",
       "      <td>0</td>\n",
       "    </tr>\n",
       "    <tr>\n",
       "      <th>4</th>\n",
       "      <td>941</td>\n",
       "      <td>1.0</td>\n",
       "      <td>0.0</td>\n",
       "      <td>0.0</td>\n",
       "      <td>1</td>\n",
       "      <td>0</td>\n",
       "      <td>0</td>\n",
       "      <td>0</td>\n",
       "      <td>0</td>\n",
       "      <td>0</td>\n",
       "      <td>...</td>\n",
       "      <td>0</td>\n",
       "      <td>0</td>\n",
       "      <td>0</td>\n",
       "      <td>0</td>\n",
       "      <td>0</td>\n",
       "      <td>0</td>\n",
       "      <td>0</td>\n",
       "      <td>0</td>\n",
       "      <td>0</td>\n",
       "      <td>0</td>\n",
       "    </tr>\n",
       "  </tbody>\n",
       "</table>\n",
       "<p>5 rows × 283 columns</p>\n",
       "</div>"
      ],
      "text/plain": [
       "   AVProductStatesIdentifier  AVProductsEnabled  \\\n",
       "0                        941                1.0   \n",
       "1                        941                1.0   \n",
       "2                        941                1.0   \n",
       "3                        775                1.0   \n",
       "4                        941                1.0   \n",
       "\n",
       "   Census_IsAlwaysOnAlwaysConnectedCapable  Wdft_IsGamer  HasDetections  \\\n",
       "0                                      0.0           0.0              0   \n",
       "1                                      0.0           1.0              0   \n",
       "2                                      0.0           1.0              1   \n",
       "3                                      0.0           0.0              0   \n",
       "4                                      0.0           0.0              1   \n",
       "\n",
       "   EngineVersion_1.1.11701.0  EngineVersion_1.1.12603.0  \\\n",
       "0                          0                          0   \n",
       "1                          0                          0   \n",
       "2                          0                          0   \n",
       "3                          0                          0   \n",
       "4                          0                          0   \n",
       "\n",
       "   EngineVersion_1.1.12805.0  EngineVersion_1.1.12902.0  \\\n",
       "0                          0                          0   \n",
       "1                          0                          0   \n",
       "2                          0                          0   \n",
       "3                          0                          0   \n",
       "4                          0                          0   \n",
       "\n",
       "   EngineVersion_1.1.13000.0                ...                 \\\n",
       "0                          0                ...                  \n",
       "1                          0                ...                  \n",
       "2                          0                ...                  \n",
       "3                          0                ...                  \n",
       "4                          0                ...                  \n",
       "\n",
       "   Census_OSVersion_10.0.17746.1000  Census_OSVersion_10.0.17747.1000  \\\n",
       "0                                 0                                 0   \n",
       "1                                 0                                 0   \n",
       "2                                 0                                 0   \n",
       "3                                 0                                 0   \n",
       "4                                 0                                 0   \n",
       "\n",
       "   Census_OSVersion_10.0.17751.1  Census_OSVersion_10.0.17754.1  \\\n",
       "0                              0                              0   \n",
       "1                              0                              0   \n",
       "2                              0                              0   \n",
       "3                              0                              0   \n",
       "4                              0                              0   \n",
       "\n",
       "   Census_OSVersion_10.0.17755.1  Census_OSVersion_10.0.17758.1  \\\n",
       "0                              0                              0   \n",
       "1                              0                              0   \n",
       "2                              0                              0   \n",
       "3                              0                              0   \n",
       "4                              0                              0   \n",
       "\n",
       "   Census_OSVersion_10.0.17758.4  Census_OSVersion_10.0.17760.1  \\\n",
       "0                              0                              0   \n",
       "1                              0                              0   \n",
       "2                              0                              0   \n",
       "3                              0                              0   \n",
       "4                              0                              0   \n",
       "\n",
       "   Census_OSVersion_10.0.17763.1  Census_OSVersion_10.0.18234.1000  \n",
       "0                              0                                 0  \n",
       "1                              0                                 0  \n",
       "2                              0                                 0  \n",
       "3                              0                                 0  \n",
       "4                              0                                 0  \n",
       "\n",
       "[5 rows x 283 columns]"
      ]
     },
     "execution_count": 8,
     "metadata": {},
     "output_type": "execute_result"
    }
   ],
   "source": [
    "df.head()"
   ]
  },
  {
   "cell_type": "code",
   "execution_count": 9,
   "metadata": {},
   "outputs": [
    {
     "name": "stdout",
     "output_type": "stream",
     "text": [
      "['AVProductStatesIdentifier', 'AVProductsEnabled', 'Census_IsAlwaysOnAlwaysConnectedCapable', 'Wdft_IsGamer', 'HasDetections', 'EngineVersion_1.1.11701.0', 'EngineVersion_1.1.12603.0', 'EngineVersion_1.1.12805.0', 'EngineVersion_1.1.12902.0', 'EngineVersion_1.1.13000.0', 'EngineVersion_1.1.13103.0', 'EngineVersion_1.1.13202.0', 'EngineVersion_1.1.13303.0', 'EngineVersion_1.1.13407.0', 'EngineVersion_1.1.13504.0', 'EngineVersion_1.1.13601.0', 'EngineVersion_1.1.13701.0', 'EngineVersion_1.1.13704.0', 'EngineVersion_1.1.13802.0', 'EngineVersion_1.1.13803.0', 'EngineVersion_1.1.13804.0', 'EngineVersion_1.1.13903.0', 'EngineVersion_1.1.14003.0', 'EngineVersion_1.1.14104.0', 'EngineVersion_1.1.14201.0', 'EngineVersion_1.1.14202.0', 'EngineVersion_1.1.14305.0', 'EngineVersion_1.1.14306.0', 'EngineVersion_1.1.14405.2', 'EngineVersion_1.1.14500.5', 'EngineVersion_1.1.14600.4', 'EngineVersion_1.1.14700.3', 'EngineVersion_1.1.14700.4', 'EngineVersion_1.1.14700.5', 'EngineVersion_1.1.14800.1', 'EngineVersion_1.1.14800.3', 'EngineVersion_1.1.14901.3', 'EngineVersion_1.1.14901.4', 'EngineVersion_1.1.15000.1', 'EngineVersion_1.1.15000.2', 'EngineVersion_1.1.15100.1', 'EngineVersion_1.1.15200.1', 'EngineVersion_1.1.15300.5', 'EngineVersion_1.1.15300.6', 'Processor_arm64', 'Processor_x64', 'Processor_x86', 'SmartScreen_1', 'SmartScreen_2', 'SmartScreen_Block', 'SmartScreen_ExistsNotSet', 'SmartScreen_None', 'SmartScreen_Off', 'SmartScreen_On', 'SmartScreen_Prompt', 'SmartScreen_RequireAdmin', 'SmartScreen_Warn', 'Census_MDC2FormFactor_AllInOne', 'Census_MDC2FormFactor_Convertible', 'Census_MDC2FormFactor_Desktop', 'Census_MDC2FormFactor_Detachable', 'Census_MDC2FormFactor_LargeTablet', 'Census_MDC2FormFactor_MediumServer', 'Census_MDC2FormFactor_Notebook', 'Census_MDC2FormFactor_PCOther', 'Census_MDC2FormFactor_SmallServer', 'Census_MDC2FormFactor_SmallTablet', 'Census_OSVersion_10.0.10240.16384', 'Census_OSVersion_10.0.10240.16389', 'Census_OSVersion_10.0.10240.16397', 'Census_OSVersion_10.0.10240.16405', 'Census_OSVersion_10.0.10240.16413', 'Census_OSVersion_10.0.10240.16430', 'Census_OSVersion_10.0.10240.16433', 'Census_OSVersion_10.0.10240.16445', 'Census_OSVersion_10.0.10240.16463', 'Census_OSVersion_10.0.10240.16487', 'Census_OSVersion_10.0.10240.16520', 'Census_OSVersion_10.0.10240.16549', 'Census_OSVersion_10.0.10240.16590', 'Census_OSVersion_10.0.10240.16644', 'Census_OSVersion_10.0.10240.16683', 'Census_OSVersion_10.0.10240.16725', 'Census_OSVersion_10.0.10240.16732', 'Census_OSVersion_10.0.10240.16854', 'Census_OSVersion_10.0.10240.16942', 'Census_OSVersion_10.0.10240.17024', 'Census_OSVersion_10.0.10240.17071', 'Census_OSVersion_10.0.10240.17113', 'Census_OSVersion_10.0.10240.17146', 'Census_OSVersion_10.0.10240.17190', 'Census_OSVersion_10.0.10240.17202', 'Census_OSVersion_10.0.10240.17236', 'Census_OSVersion_10.0.10240.17319', 'Census_OSVersion_10.0.10240.17354', 'Census_OSVersion_10.0.10240.17394', 'Census_OSVersion_10.0.10240.17443', 'Census_OSVersion_10.0.10240.17673', 'Census_OSVersion_10.0.10240.17709', 'Census_OSVersion_10.0.10240.17738', 'Census_OSVersion_10.0.10240.17797', 'Census_OSVersion_10.0.10240.17831', 'Census_OSVersion_10.0.10240.17861', 'Census_OSVersion_10.0.10240.17889', 'Census_OSVersion_10.0.10240.17914', 'Census_OSVersion_10.0.10240.17918', 'Census_OSVersion_10.0.10240.17946', 'Census_OSVersion_10.0.10240.17976', 'Census_OSVersion_10.0.10586.0', 'Census_OSVersion_10.0.10586.1007', 'Census_OSVersion_10.0.10586.104', 'Census_OSVersion_10.0.10586.1045', 'Census_OSVersion_10.0.10586.1106', 'Census_OSVersion_10.0.10586.1176', 'Census_OSVersion_10.0.10586.122', 'Census_OSVersion_10.0.10586.164', 'Census_OSVersion_10.0.10586.17', 'Census_OSVersion_10.0.10586.218', 'Census_OSVersion_10.0.10586.29', 'Census_OSVersion_10.0.10586.318', 'Census_OSVersion_10.0.10586.36', 'Census_OSVersion_10.0.10586.420', 'Census_OSVersion_10.0.10586.494', 'Census_OSVersion_10.0.10586.545', 'Census_OSVersion_10.0.10586.589', 'Census_OSVersion_10.0.10586.63', 'Census_OSVersion_10.0.10586.633', 'Census_OSVersion_10.0.10586.679', 'Census_OSVersion_10.0.10586.71', 'Census_OSVersion_10.0.10586.713', 'Census_OSVersion_10.0.10586.753', 'Census_OSVersion_10.0.10586.839', 'Census_OSVersion_10.0.10586.873', 'Census_OSVersion_10.0.10586.916', 'Census_OSVersion_10.0.10586.962', 'Census_OSVersion_10.0.14393.0', 'Census_OSVersion_10.0.14393.105', 'Census_OSVersion_10.0.14393.1066', 'Census_OSVersion_10.0.14393.1198', 'Census_OSVersion_10.0.14393.1358', 'Census_OSVersion_10.0.14393.1480', 'Census_OSVersion_10.0.14393.1532', 'Census_OSVersion_10.0.14393.1593', 'Census_OSVersion_10.0.14393.1715', 'Census_OSVersion_10.0.14393.1770', 'Census_OSVersion_10.0.14393.187', 'Census_OSVersion_10.0.14393.1884', 'Census_OSVersion_10.0.14393.1914', 'Census_OSVersion_10.0.14393.1944', 'Census_OSVersion_10.0.14393.2007', 'Census_OSVersion_10.0.14393.2035', 'Census_OSVersion_10.0.14393.2068', 'Census_OSVersion_10.0.14393.2097', 'Census_OSVersion_10.0.14393.2125', 'Census_OSVersion_10.0.14393.2155', 'Census_OSVersion_10.0.14393.2189', 'Census_OSVersion_10.0.14393.2214', 'Census_OSVersion_10.0.14393.222', 'Census_OSVersion_10.0.14393.223', 'Census_OSVersion_10.0.14393.2248', 'Census_OSVersion_10.0.14393.2363', 'Census_OSVersion_10.0.14393.2368', 'Census_OSVersion_10.0.14393.2395', 'Census_OSVersion_10.0.14393.2396', 'Census_OSVersion_10.0.14393.2430', 'Census_OSVersion_10.0.14393.2485', 'Census_OSVersion_10.0.14393.321', 'Census_OSVersion_10.0.14393.351', 'Census_OSVersion_10.0.14393.447', 'Census_OSVersion_10.0.14393.479', 'Census_OSVersion_10.0.14393.5', 'Census_OSVersion_10.0.14393.51', 'Census_OSVersion_10.0.14393.576', 'Census_OSVersion_10.0.14393.577', 'Census_OSVersion_10.0.14393.693', 'Census_OSVersion_10.0.14393.726', 'Census_OSVersion_10.0.14393.82', 'Census_OSVersion_10.0.14393.953', 'Census_OSVersion_10.0.14393.969', 'Census_OSVersion_10.0.14393.970', 'Census_OSVersion_10.0.15063.0', 'Census_OSVersion_10.0.15063.1029', 'Census_OSVersion_10.0.15063.1058', 'Census_OSVersion_10.0.15063.1088', 'Census_OSVersion_10.0.15063.11', 'Census_OSVersion_10.0.15063.1112', 'Census_OSVersion_10.0.15063.1154', 'Census_OSVersion_10.0.15063.1155', 'Census_OSVersion_10.0.15063.1182', 'Census_OSVersion_10.0.15063.1206', 'Census_OSVersion_10.0.15063.1209', 'Census_OSVersion_10.0.15063.1235', 'Census_OSVersion_10.0.15063.1266', 'Census_OSVersion_10.0.15063.1292', 'Census_OSVersion_10.0.15063.13', 'Census_OSVersion_10.0.15063.1324', 'Census_OSVersion_10.0.15063.1356', 'Census_OSVersion_10.0.15063.138', 'Census_OSVersion_10.0.15063.14', 'Census_OSVersion_10.0.15063.250', 'Census_OSVersion_10.0.15063.296', 'Census_OSVersion_10.0.15063.332', 'Census_OSVersion_10.0.15063.413', 'Census_OSVersion_10.0.15063.447', 'Census_OSVersion_10.0.15063.483', 'Census_OSVersion_10.0.15063.502', 'Census_OSVersion_10.0.15063.540', 'Census_OSVersion_10.0.15063.608', 'Census_OSVersion_10.0.15063.632', 'Census_OSVersion_10.0.15063.674', 'Census_OSVersion_10.0.15063.726', 'Census_OSVersion_10.0.15063.729', 'Census_OSVersion_10.0.15063.786', 'Census_OSVersion_10.0.15063.850', 'Census_OSVersion_10.0.15063.877', 'Census_OSVersion_10.0.15063.909', 'Census_OSVersion_10.0.15063.936', 'Census_OSVersion_10.0.15063.966', 'Census_OSVersion_10.0.15063.994', 'Census_OSVersion_10.0.16299.125', 'Census_OSVersion_10.0.16299.15', 'Census_OSVersion_10.0.16299.19', 'Census_OSVersion_10.0.16299.192', 'Census_OSVersion_10.0.16299.214', 'Census_OSVersion_10.0.16299.248', 'Census_OSVersion_10.0.16299.251', 'Census_OSVersion_10.0.16299.309', 'Census_OSVersion_10.0.16299.334', 'Census_OSVersion_10.0.16299.371', 'Census_OSVersion_10.0.16299.402', 'Census_OSVersion_10.0.16299.431', 'Census_OSVersion_10.0.16299.461', 'Census_OSVersion_10.0.16299.492', 'Census_OSVersion_10.0.16299.522', 'Census_OSVersion_10.0.16299.547', 'Census_OSVersion_10.0.16299.551', 'Census_OSVersion_10.0.16299.579', 'Census_OSVersion_10.0.16299.611', 'Census_OSVersion_10.0.16299.637', 'Census_OSVersion_10.0.16299.64', 'Census_OSVersion_10.0.16299.665', 'Census_OSVersion_10.0.16299.666', 'Census_OSVersion_10.0.16299.98', 'Census_OSVersion_10.0.17134.1', 'Census_OSVersion_10.0.17134.112', 'Census_OSVersion_10.0.17134.137', 'Census_OSVersion_10.0.17134.165', 'Census_OSVersion_10.0.17134.167', 'Census_OSVersion_10.0.17134.191', 'Census_OSVersion_10.0.17134.228', 'Census_OSVersion_10.0.17134.254', 'Census_OSVersion_10.0.17134.285', 'Census_OSVersion_10.0.17134.286', 'Census_OSVersion_10.0.17134.319', 'Census_OSVersion_10.0.17134.48', 'Census_OSVersion_10.0.17134.5', 'Census_OSVersion_10.0.17134.81', 'Census_OSVersion_10.0.17134.83', 'Census_OSVersion_10.0.17627.1000', 'Census_OSVersion_10.0.17643.1000', 'Census_OSVersion_10.0.17666.1000', 'Census_OSVersion_10.0.17677.1000', 'Census_OSVersion_10.0.17686.1003', 'Census_OSVersion_10.0.17692.1000', 'Census_OSVersion_10.0.17692.1004', 'Census_OSVersion_10.0.17713.1002', 'Census_OSVersion_10.0.17733.1000', 'Census_OSVersion_10.0.17735.1000', 'Census_OSVersion_10.0.17738.1000', 'Census_OSVersion_10.0.17741.1000', 'Census_OSVersion_10.0.17744.1001', 'Census_OSVersion_10.0.17744.1003', 'Census_OSVersion_10.0.17744.1004', 'Census_OSVersion_10.0.17746.1000', 'Census_OSVersion_10.0.17747.1000', 'Census_OSVersion_10.0.17751.1', 'Census_OSVersion_10.0.17754.1', 'Census_OSVersion_10.0.17755.1', 'Census_OSVersion_10.0.17758.1', 'Census_OSVersion_10.0.17758.4', 'Census_OSVersion_10.0.17760.1', 'Census_OSVersion_10.0.17763.1', 'Census_OSVersion_10.0.18234.1000']\n"
     ]
    }
   ],
   "source": [
    "list_of_columns = list(df.columns)\n",
    "print(list_of_columns)"
   ]
  },
  {
   "cell_type": "code",
   "execution_count": 10,
   "metadata": {},
   "outputs": [
    {
     "data": {
      "text/plain": [
       "list"
      ]
     },
     "execution_count": 10,
     "metadata": {},
     "output_type": "execute_result"
    }
   ],
   "source": [
    "type(list_of_columns)"
   ]
  },
  {
   "cell_type": "code",
   "execution_count": 11,
   "metadata": {},
   "outputs": [],
   "source": [
    "# list_of_columns.pop(0)\n",
    "list_of_columns_minus_y = list_of_columns"
   ]
  },
  {
   "cell_type": "code",
   "execution_count": 12,
   "metadata": {},
   "outputs": [],
   "source": [
    "list_of_columns_minus_y.remove(\"HasDetections\");"
   ]
  },
  {
   "cell_type": "code",
   "execution_count": 13,
   "metadata": {},
   "outputs": [
    {
     "name": "stdout",
     "output_type": "stream",
     "text": [
      "['AVProductStatesIdentifier', 'AVProductsEnabled', 'Census_IsAlwaysOnAlwaysConnectedCapable', 'Wdft_IsGamer', 'EngineVersion_1.1.11701.0', 'EngineVersion_1.1.12603.0', 'EngineVersion_1.1.12805.0', 'EngineVersion_1.1.12902.0', 'EngineVersion_1.1.13000.0', 'EngineVersion_1.1.13103.0', 'EngineVersion_1.1.13202.0', 'EngineVersion_1.1.13303.0', 'EngineVersion_1.1.13407.0', 'EngineVersion_1.1.13504.0', 'EngineVersion_1.1.13601.0', 'EngineVersion_1.1.13701.0', 'EngineVersion_1.1.13704.0', 'EngineVersion_1.1.13802.0', 'EngineVersion_1.1.13803.0', 'EngineVersion_1.1.13804.0', 'EngineVersion_1.1.13903.0', 'EngineVersion_1.1.14003.0', 'EngineVersion_1.1.14104.0', 'EngineVersion_1.1.14201.0', 'EngineVersion_1.1.14202.0', 'EngineVersion_1.1.14305.0', 'EngineVersion_1.1.14306.0', 'EngineVersion_1.1.14405.2', 'EngineVersion_1.1.14500.5', 'EngineVersion_1.1.14600.4', 'EngineVersion_1.1.14700.3', 'EngineVersion_1.1.14700.4', 'EngineVersion_1.1.14700.5', 'EngineVersion_1.1.14800.1', 'EngineVersion_1.1.14800.3', 'EngineVersion_1.1.14901.3', 'EngineVersion_1.1.14901.4', 'EngineVersion_1.1.15000.1', 'EngineVersion_1.1.15000.2', 'EngineVersion_1.1.15100.1', 'EngineVersion_1.1.15200.1', 'EngineVersion_1.1.15300.5', 'EngineVersion_1.1.15300.6', 'Processor_arm64', 'Processor_x64', 'Processor_x86', 'SmartScreen_1', 'SmartScreen_2', 'SmartScreen_Block', 'SmartScreen_ExistsNotSet', 'SmartScreen_None', 'SmartScreen_Off', 'SmartScreen_On', 'SmartScreen_Prompt', 'SmartScreen_RequireAdmin', 'SmartScreen_Warn', 'Census_MDC2FormFactor_AllInOne', 'Census_MDC2FormFactor_Convertible', 'Census_MDC2FormFactor_Desktop', 'Census_MDC2FormFactor_Detachable', 'Census_MDC2FormFactor_LargeTablet', 'Census_MDC2FormFactor_MediumServer', 'Census_MDC2FormFactor_Notebook', 'Census_MDC2FormFactor_PCOther', 'Census_MDC2FormFactor_SmallServer', 'Census_MDC2FormFactor_SmallTablet', 'Census_OSVersion_10.0.10240.16384', 'Census_OSVersion_10.0.10240.16389', 'Census_OSVersion_10.0.10240.16397', 'Census_OSVersion_10.0.10240.16405', 'Census_OSVersion_10.0.10240.16413', 'Census_OSVersion_10.0.10240.16430', 'Census_OSVersion_10.0.10240.16433', 'Census_OSVersion_10.0.10240.16445', 'Census_OSVersion_10.0.10240.16463', 'Census_OSVersion_10.0.10240.16487', 'Census_OSVersion_10.0.10240.16520', 'Census_OSVersion_10.0.10240.16549', 'Census_OSVersion_10.0.10240.16590', 'Census_OSVersion_10.0.10240.16644', 'Census_OSVersion_10.0.10240.16683', 'Census_OSVersion_10.0.10240.16725', 'Census_OSVersion_10.0.10240.16732', 'Census_OSVersion_10.0.10240.16854', 'Census_OSVersion_10.0.10240.16942', 'Census_OSVersion_10.0.10240.17024', 'Census_OSVersion_10.0.10240.17071', 'Census_OSVersion_10.0.10240.17113', 'Census_OSVersion_10.0.10240.17146', 'Census_OSVersion_10.0.10240.17190', 'Census_OSVersion_10.0.10240.17202', 'Census_OSVersion_10.0.10240.17236', 'Census_OSVersion_10.0.10240.17319', 'Census_OSVersion_10.0.10240.17354', 'Census_OSVersion_10.0.10240.17394', 'Census_OSVersion_10.0.10240.17443', 'Census_OSVersion_10.0.10240.17673', 'Census_OSVersion_10.0.10240.17709', 'Census_OSVersion_10.0.10240.17738', 'Census_OSVersion_10.0.10240.17797', 'Census_OSVersion_10.0.10240.17831', 'Census_OSVersion_10.0.10240.17861', 'Census_OSVersion_10.0.10240.17889', 'Census_OSVersion_10.0.10240.17914', 'Census_OSVersion_10.0.10240.17918', 'Census_OSVersion_10.0.10240.17946', 'Census_OSVersion_10.0.10240.17976', 'Census_OSVersion_10.0.10586.0', 'Census_OSVersion_10.0.10586.1007', 'Census_OSVersion_10.0.10586.104', 'Census_OSVersion_10.0.10586.1045', 'Census_OSVersion_10.0.10586.1106', 'Census_OSVersion_10.0.10586.1176', 'Census_OSVersion_10.0.10586.122', 'Census_OSVersion_10.0.10586.164', 'Census_OSVersion_10.0.10586.17', 'Census_OSVersion_10.0.10586.218', 'Census_OSVersion_10.0.10586.29', 'Census_OSVersion_10.0.10586.318', 'Census_OSVersion_10.0.10586.36', 'Census_OSVersion_10.0.10586.420', 'Census_OSVersion_10.0.10586.494', 'Census_OSVersion_10.0.10586.545', 'Census_OSVersion_10.0.10586.589', 'Census_OSVersion_10.0.10586.63', 'Census_OSVersion_10.0.10586.633', 'Census_OSVersion_10.0.10586.679', 'Census_OSVersion_10.0.10586.71', 'Census_OSVersion_10.0.10586.713', 'Census_OSVersion_10.0.10586.753', 'Census_OSVersion_10.0.10586.839', 'Census_OSVersion_10.0.10586.873', 'Census_OSVersion_10.0.10586.916', 'Census_OSVersion_10.0.10586.962', 'Census_OSVersion_10.0.14393.0', 'Census_OSVersion_10.0.14393.105', 'Census_OSVersion_10.0.14393.1066', 'Census_OSVersion_10.0.14393.1198', 'Census_OSVersion_10.0.14393.1358', 'Census_OSVersion_10.0.14393.1480', 'Census_OSVersion_10.0.14393.1532', 'Census_OSVersion_10.0.14393.1593', 'Census_OSVersion_10.0.14393.1715', 'Census_OSVersion_10.0.14393.1770', 'Census_OSVersion_10.0.14393.187', 'Census_OSVersion_10.0.14393.1884', 'Census_OSVersion_10.0.14393.1914', 'Census_OSVersion_10.0.14393.1944', 'Census_OSVersion_10.0.14393.2007', 'Census_OSVersion_10.0.14393.2035', 'Census_OSVersion_10.0.14393.2068', 'Census_OSVersion_10.0.14393.2097', 'Census_OSVersion_10.0.14393.2125', 'Census_OSVersion_10.0.14393.2155', 'Census_OSVersion_10.0.14393.2189', 'Census_OSVersion_10.0.14393.2214', 'Census_OSVersion_10.0.14393.222', 'Census_OSVersion_10.0.14393.223', 'Census_OSVersion_10.0.14393.2248', 'Census_OSVersion_10.0.14393.2363', 'Census_OSVersion_10.0.14393.2368', 'Census_OSVersion_10.0.14393.2395', 'Census_OSVersion_10.0.14393.2396', 'Census_OSVersion_10.0.14393.2430', 'Census_OSVersion_10.0.14393.2485', 'Census_OSVersion_10.0.14393.321', 'Census_OSVersion_10.0.14393.351', 'Census_OSVersion_10.0.14393.447', 'Census_OSVersion_10.0.14393.479', 'Census_OSVersion_10.0.14393.5', 'Census_OSVersion_10.0.14393.51', 'Census_OSVersion_10.0.14393.576', 'Census_OSVersion_10.0.14393.577', 'Census_OSVersion_10.0.14393.693', 'Census_OSVersion_10.0.14393.726', 'Census_OSVersion_10.0.14393.82', 'Census_OSVersion_10.0.14393.953', 'Census_OSVersion_10.0.14393.969', 'Census_OSVersion_10.0.14393.970', 'Census_OSVersion_10.0.15063.0', 'Census_OSVersion_10.0.15063.1029', 'Census_OSVersion_10.0.15063.1058', 'Census_OSVersion_10.0.15063.1088', 'Census_OSVersion_10.0.15063.11', 'Census_OSVersion_10.0.15063.1112', 'Census_OSVersion_10.0.15063.1154', 'Census_OSVersion_10.0.15063.1155', 'Census_OSVersion_10.0.15063.1182', 'Census_OSVersion_10.0.15063.1206', 'Census_OSVersion_10.0.15063.1209', 'Census_OSVersion_10.0.15063.1235', 'Census_OSVersion_10.0.15063.1266', 'Census_OSVersion_10.0.15063.1292', 'Census_OSVersion_10.0.15063.13', 'Census_OSVersion_10.0.15063.1324', 'Census_OSVersion_10.0.15063.1356', 'Census_OSVersion_10.0.15063.138', 'Census_OSVersion_10.0.15063.14', 'Census_OSVersion_10.0.15063.250', 'Census_OSVersion_10.0.15063.296', 'Census_OSVersion_10.0.15063.332', 'Census_OSVersion_10.0.15063.413', 'Census_OSVersion_10.0.15063.447', 'Census_OSVersion_10.0.15063.483', 'Census_OSVersion_10.0.15063.502', 'Census_OSVersion_10.0.15063.540', 'Census_OSVersion_10.0.15063.608', 'Census_OSVersion_10.0.15063.632', 'Census_OSVersion_10.0.15063.674', 'Census_OSVersion_10.0.15063.726', 'Census_OSVersion_10.0.15063.729', 'Census_OSVersion_10.0.15063.786', 'Census_OSVersion_10.0.15063.850', 'Census_OSVersion_10.0.15063.877', 'Census_OSVersion_10.0.15063.909', 'Census_OSVersion_10.0.15063.936', 'Census_OSVersion_10.0.15063.966', 'Census_OSVersion_10.0.15063.994', 'Census_OSVersion_10.0.16299.125', 'Census_OSVersion_10.0.16299.15', 'Census_OSVersion_10.0.16299.19', 'Census_OSVersion_10.0.16299.192', 'Census_OSVersion_10.0.16299.214', 'Census_OSVersion_10.0.16299.248', 'Census_OSVersion_10.0.16299.251', 'Census_OSVersion_10.0.16299.309', 'Census_OSVersion_10.0.16299.334', 'Census_OSVersion_10.0.16299.371', 'Census_OSVersion_10.0.16299.402', 'Census_OSVersion_10.0.16299.431', 'Census_OSVersion_10.0.16299.461', 'Census_OSVersion_10.0.16299.492', 'Census_OSVersion_10.0.16299.522', 'Census_OSVersion_10.0.16299.547', 'Census_OSVersion_10.0.16299.551', 'Census_OSVersion_10.0.16299.579', 'Census_OSVersion_10.0.16299.611', 'Census_OSVersion_10.0.16299.637', 'Census_OSVersion_10.0.16299.64', 'Census_OSVersion_10.0.16299.665', 'Census_OSVersion_10.0.16299.666', 'Census_OSVersion_10.0.16299.98', 'Census_OSVersion_10.0.17134.1', 'Census_OSVersion_10.0.17134.112', 'Census_OSVersion_10.0.17134.137', 'Census_OSVersion_10.0.17134.165', 'Census_OSVersion_10.0.17134.167', 'Census_OSVersion_10.0.17134.191', 'Census_OSVersion_10.0.17134.228', 'Census_OSVersion_10.0.17134.254', 'Census_OSVersion_10.0.17134.285', 'Census_OSVersion_10.0.17134.286', 'Census_OSVersion_10.0.17134.319', 'Census_OSVersion_10.0.17134.48', 'Census_OSVersion_10.0.17134.5', 'Census_OSVersion_10.0.17134.81', 'Census_OSVersion_10.0.17134.83', 'Census_OSVersion_10.0.17627.1000', 'Census_OSVersion_10.0.17643.1000', 'Census_OSVersion_10.0.17666.1000', 'Census_OSVersion_10.0.17677.1000', 'Census_OSVersion_10.0.17686.1003', 'Census_OSVersion_10.0.17692.1000', 'Census_OSVersion_10.0.17692.1004', 'Census_OSVersion_10.0.17713.1002', 'Census_OSVersion_10.0.17733.1000', 'Census_OSVersion_10.0.17735.1000', 'Census_OSVersion_10.0.17738.1000', 'Census_OSVersion_10.0.17741.1000', 'Census_OSVersion_10.0.17744.1001', 'Census_OSVersion_10.0.17744.1003', 'Census_OSVersion_10.0.17744.1004', 'Census_OSVersion_10.0.17746.1000', 'Census_OSVersion_10.0.17747.1000', 'Census_OSVersion_10.0.17751.1', 'Census_OSVersion_10.0.17754.1', 'Census_OSVersion_10.0.17755.1', 'Census_OSVersion_10.0.17758.1', 'Census_OSVersion_10.0.17758.4', 'Census_OSVersion_10.0.17760.1', 'Census_OSVersion_10.0.17763.1', 'Census_OSVersion_10.0.18234.1000']\n"
     ]
    }
   ],
   "source": [
    "print(list_of_columns_minus_y)"
   ]
  },
  {
   "cell_type": "code",
   "execution_count": 14,
   "metadata": {},
   "outputs": [],
   "source": [
    "# X = df[list_of_columns_minus_y]\n",
    "# y = df[\"HasDetections\"].values.reshape(-1, 1)\n",
    "# print(X.shape, y.shape)"
   ]
  },
  {
   "cell_type": "code",
   "execution_count": 15,
   "metadata": {},
   "outputs": [],
   "source": [
    "# Import train_test_split function\n",
    "# from sklearn.cross_validation import train_test_split\n",
    "from sklearn.model_selection import train_test_split\n",
    "\n",
    "# Split dataset into training set and test set\n",
    "X_train, X_test, y_train, y_test = train_test_split(df[list_of_columns_minus_y], df[\"HasDetections\"], test_size=0.3,random_state=43) # 70% training and 30% test"
   ]
  },
  {
   "cell_type": "code",
   "execution_count": 33,
   "metadata": {},
   "outputs": [],
   "source": [
    "#Import Gaussian Naive Bayes model\n",
    "from sklearn.naive_bayes import GaussianNB\n",
    "\n",
    "#Create a Gaussian Classifier\n",
    "gnb = GaussianNB()\n",
    "\n",
    "#Train the model using the training sets\n",
    "gnb.fit(X_train, y_train)\n",
    "\n",
    "#Predict the response for test dataset\n",
    "y_pred = gnb.predict(X_test)"
   ]
  },
  {
   "cell_type": "code",
   "execution_count": 34,
   "metadata": {},
   "outputs": [
    {
     "name": "stdout",
     "output_type": "stream",
     "text": [
      "Accuracy: 0.5313108614232209\n"
     ]
    }
   ],
   "source": [
    "#Import scikit-learn metrics module for accuracy calculation\n",
    "from sklearn import metrics\n",
    "\n",
    "# Model Accuracy, how often is the classifier correct?\n",
    "print(\"Accuracy:\",metrics.accuracy_score(y_test, y_pred))"
   ]
  },
  {
   "cell_type": "code",
   "execution_count": 35,
   "metadata": {},
   "outputs": [
    {
     "name": "stdout",
     "output_type": "stream",
     "text": [
      "Mean Squared Error (MSE): 0.468689138576779\n",
      "R-squared (R2 ): -0.8747717441422862\n"
     ]
    }
   ],
   "source": [
    "from sklearn.metrics import mean_squared_error, r2_score\n",
    "\n",
    "# # Use our model to predict a value\n",
    "# predicted = model.predict(X)\n",
    "\n",
    "# Score the prediction with mse and r2\n",
    "mse = mean_squared_error(y_test, y_pred)\n",
    "r2 = r2_score(y_test, y_pred)\n",
    "\n",
    "print(f\"Mean Squared Error (MSE): {mse}\")\n",
    "print(f\"R-squared (R2 ): {r2}\")"
   ]
  },
  {
   "cell_type": "code",
   "execution_count": 36,
   "metadata": {},
   "outputs": [
    {
     "data": {
      "text/plain": [
       "0.545028413651395"
      ]
     },
     "execution_count": 36,
     "metadata": {},
     "output_type": "execute_result"
    }
   ],
   "source": [
    "# Overall Score for the model\n",
    "gnb.score(X_train, y_train)"
   ]
  },
  {
   "cell_type": "code",
   "execution_count": 37,
   "metadata": {},
   "outputs": [
    {
     "data": {
      "text/plain": [
       "0.5313108614232209"
      ]
     },
     "execution_count": 37,
     "metadata": {},
     "output_type": "execute_result"
    }
   ],
   "source": [
    "# Overall Score for the model\n",
    "gnb.score(X_test, y_test)"
   ]
  },
  {
   "cell_type": "code",
   "execution_count": 38,
   "metadata": {},
   "outputs": [],
   "source": [
    "#Import Bernoulli Naive Bayes model\n",
    "from sklearn.naive_bayes import BernoulliNB\n",
    "bnb = BernoulliNB()\n",
    "#Train the model using the training sets\n",
    "bnb.fit(X_train, y_train)\n",
    "#Predict the response for test dataset\n",
    "y_pred = bnb.predict(X_test)"
   ]
  },
  {
   "cell_type": "code",
   "execution_count": 39,
   "metadata": {},
   "outputs": [
    {
     "name": "stdout",
     "output_type": "stream",
     "text": [
      "Mean Squared Error (MSE): 0.4064419475655431\n",
      "R-squared (R2 ): -0.6257809627163249\n"
     ]
    }
   ],
   "source": [
    "# Score the prediction with mse and r2\n",
    "mse = mean_squared_error(y_test, y_pred)\n",
    "r2 = r2_score(y_test, y_pred)\n",
    "\n",
    "print(f\"Mean Squared Error (MSE): {mse}\")\n",
    "print(f\"R-squared (R2 ): {r2}\")"
   ]
  },
  {
   "cell_type": "code",
   "execution_count": 40,
   "metadata": {},
   "outputs": [
    {
     "data": {
      "text/plain": [
       "0.5965582560118149"
      ]
     },
     "execution_count": 40,
     "metadata": {},
     "output_type": "execute_result"
    }
   ],
   "source": [
    "# Overall Score for the model\n",
    "bnb.score(X_train, y_train)"
   ]
  },
  {
   "cell_type": "code",
   "execution_count": 41,
   "metadata": {},
   "outputs": [
    {
     "data": {
      "text/plain": [
       "0.5935580524344569"
      ]
     },
     "execution_count": 41,
     "metadata": {},
     "output_type": "execute_result"
    }
   ],
   "source": [
    "# Overall Score for the model\n",
    "bnb.score(X_test, y_test)"
   ]
  },
  {
   "cell_type": "code",
   "execution_count": 42,
   "metadata": {},
   "outputs": [],
   "source": [
    "#Import Multinomial Naive Bayes model\n",
    "from sklearn.naive_bayes import MultinomialNB\n",
    "mnb = MultinomialNB()\n",
    "#Train the model using the training sets\n",
    "mnb.fit(X_train, y_train)\n",
    "#Predict the response for test dataset\n",
    "y_pred = mnb.predict(X_test)"
   ]
  },
  {
   "cell_type": "code",
   "execution_count": 43,
   "metadata": {},
   "outputs": [
    {
     "name": "stdout",
     "output_type": "stream",
     "text": [
      "Mean Squared Error (MSE): 0.39273408239700375\n",
      "R-squared (R2 ): -0.5709490577813658\n"
     ]
    }
   ],
   "source": [
    "# Score the prediction with mse and r2\n",
    "mse = mean_squared_error(y_test, y_pred)\n",
    "r2 = r2_score(y_test, y_pred)\n",
    "\n",
    "print(f\"Mean Squared Error (MSE): {mse}\")\n",
    "print(f\"R-squared (R2 ): {r2}\")"
   ]
  },
  {
   "cell_type": "code",
   "execution_count": 44,
   "metadata": {},
   "outputs": [
    {
     "data": {
      "text/plain": [
       "0.6159180659453559"
      ]
     },
     "execution_count": 44,
     "metadata": {},
     "output_type": "execute_result"
    }
   ],
   "source": [
    "# Overall Score for the model\n",
    "mnb.score(X_train, y_train)"
   ]
  },
  {
   "cell_type": "code",
   "execution_count": 45,
   "metadata": {},
   "outputs": [
    {
     "data": {
      "text/plain": [
       "0.6072659176029963"
      ]
     },
     "execution_count": 45,
     "metadata": {},
     "output_type": "execute_result"
    }
   ],
   "source": [
    "# Overall Score for the model\n",
    "mnb.score(X_test, y_test)"
   ]
  },
  {
   "cell_type": "code",
   "execution_count": 46,
   "metadata": {},
   "outputs": [],
   "source": [
    "#Import Complement Naive Bayes model\n",
    "from sklearn.naive_bayes import ComplementNB\n",
    "cnb = ComplementNB()\n",
    "#Train the model using the training sets\n",
    "cnb.fit(X_train, y_train)\n",
    "#Predict the response for test dataset\n",
    "y_pred = cnb.predict(X_test)"
   ]
  },
  {
   "cell_type": "code",
   "execution_count": 47,
   "metadata": {},
   "outputs": [
    {
     "name": "stdout",
     "output_type": "stream",
     "text": [
      "Mean Squared Error (MSE): 0.39243445692883894\n",
      "R-squared (R2 ): -0.5697505461980881\n"
     ]
    }
   ],
   "source": [
    "# Score the prediction with mse and r2\n",
    "mse = mean_squared_error(y_test, y_pred)\n",
    "r2 = r2_score(y_test, y_pred)\n",
    "\n",
    "print(f\"Mean Squared Error (MSE): {mse}\")\n",
    "print(f\"R-squared (R2 ): {r2}\")"
   ]
  },
  {
   "cell_type": "code",
   "execution_count": 48,
   "metadata": {},
   "outputs": [
    {
     "data": {
      "text/plain": [
       "0.6135101293864578"
      ]
     },
     "execution_count": 48,
     "metadata": {},
     "output_type": "execute_result"
    }
   ],
   "source": [
    "# Overall Score for the model\n",
    "cnb.score(X_train, y_train)"
   ]
  },
  {
   "cell_type": "code",
   "execution_count": 49,
   "metadata": {},
   "outputs": [
    {
     "data": {
      "text/plain": [
       "0.6075655430711611"
      ]
     },
     "execution_count": 49,
     "metadata": {},
     "output_type": "execute_result"
    }
   ],
   "source": [
    "# Overall Score for the model\n",
    "cnb.score(X_test, y_test)"
   ]
  },
  {
   "cell_type": "code",
   "execution_count": null,
   "metadata": {},
   "outputs": [],
   "source": [
    "# ComplementNB(alpha=1.0, class_prior=None, fit_prior=True, norm=False)\n",
    "# print(cnb.predict(X[4:6]))"
   ]
  }
 ],
 "metadata": {
  "kernelspec": {
   "display_name": "Python 3",
   "language": "python",
   "name": "python3"
  },
  "language_info": {
   "codemirror_mode": {
    "name": "ipython",
    "version": 3
   },
   "file_extension": ".py",
   "mimetype": "text/x-python",
   "name": "python",
   "nbconvert_exporter": "python",
   "pygments_lexer": "ipython3",
   "version": "3.7.1"
  }
 },
 "nbformat": 4,
 "nbformat_minor": 2
}
